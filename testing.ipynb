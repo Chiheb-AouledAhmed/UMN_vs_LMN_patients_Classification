{
 "cells": [
  {
   "cell_type": "code",
   "execution_count": 25,
   "metadata": {},
   "outputs": [],
   "source": [
    "import pandas as pd\n",
    "import numpy as np\n",
    "import matplotlib.pyplot as plt\n",
    "from mpl_toolkits.mplot3d import Axes3D\n",
    "from mpl_toolkits import mplot3d\n",
    "import os\n",
    "newsource={}\n",
    "keys = \"Sample #,Fx,Fy,Fz,Mx,My,Mz,RTA,RSO,LTA,LSO,GO\\n\"\n",
    "length = len(keys)"
   ]
  },
  {
   "cell_type": "code",
   "execution_count": 26,
   "metadata": {},
   "outputs": [],
   "source": [
    "pathname = r\"C:\\Users\\chihe\\datasets\\Datasets\\Healthy\\AC16\\AC_01.csv\"\n",
    "path2=r\"C:\\Users\\chihe\\datasets\\output.csv\"\n",
    "f = open(pathname, \"r\")\n",
    "f1 =open(path2,\"w\")\n",
    "f1.write(keys)\n",
    "k=0\n",
    "for x in f:\n",
    "    if((k>=11)and(k<10011)):\n",
    "        f1.write(x)\n",
    "    k=k+1"
   ]
  }
 ],
 "metadata": {
  "kernelspec": {
   "display_name": "Python 3",
   "language": "python",
   "name": "python3"
  },
  "language_info": {
   "codemirror_mode": {
    "name": "ipython",
    "version": 3
   },
   "file_extension": ".py",
   "mimetype": "text/x-python",
   "name": "python",
   "nbconvert_exporter": "python",
   "pygments_lexer": "ipython3",
   "version": "3.7.4"
  }
 },
 "nbformat": 4,
 "nbformat_minor": 2
}
